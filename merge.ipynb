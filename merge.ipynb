{
 "cells": [
  {
   "cell_type": "code",
   "execution_count": 8,
   "metadata": {},
   "outputs": [],
   "source": [
    "df1 = pd.read_csv('out_put/output_caretobeauty_page_1_34.csv')"
   ]
  },
  {
   "cell_type": "code",
   "execution_count": 9,
   "metadata": {},
   "outputs": [
    {
     "data": {
      "text/html": [
       "<div>\n",
       "<style scoped>\n",
       "    .dataframe tbody tr th:only-of-type {\n",
       "        vertical-align: middle;\n",
       "    }\n",
       "\n",
       "    .dataframe tbody tr th {\n",
       "        vertical-align: top;\n",
       "    }\n",
       "\n",
       "    .dataframe thead th {\n",
       "        text-align: right;\n",
       "    }\n",
       "</style>\n",
       "<table border=\"1\" class=\"dataframe\">\n",
       "  <thead>\n",
       "    <tr style=\"text-align: right;\">\n",
       "      <th></th>\n",
       "      <th>Link</th>\n",
       "      <th>brand</th>\n",
       "      <th>volume</th>\n",
       "      <th>description</th>\n",
       "      <th>ingredients</th>\n",
       "      <th>how_to_use</th>\n",
       "    </tr>\n",
       "  </thead>\n",
       "  <tbody>\n",
       "    <tr>\n",
       "      <th>0</th>\n",
       "      <td>https://www.caretobeauty.com/us/eucerin-anti-p...</td>\n",
       "      <td>Eucerin</td>\n",
       "      <td>15ml</td>\n",
       "      <td>Eucerin Anti-Pigment Eye Contour Cream 15ml (0...</td>\n",
       "      <td>Main Ingredients\\r\\n\\r\\nThiamidol is an active...</td>\n",
       "      <td>How to use\\r\\nApply a pea-sized amount of&amp;nbsp...</td>\n",
       "    </tr>\n",
       "    <tr>\n",
       "      <th>1</th>\n",
       "      <td>https://www.caretobeauty.com/us/sesderma-k-vit...</td>\n",
       "      <td>Sesderma</td>\n",
       "      <td>30ml</td>\n",
       "      <td>Sesderma K-Vit Anti-Dark Circles Serum Clarify...</td>\n",
       "      <td>Main Ingredients\\r\\n\\r\\nCamphanediol and Pinad...</td>\n",
       "      <td>How to use\\r\\nApply Sesderma K-Vit Anti-Dark C...</td>\n",
       "    </tr>\n",
       "  </tbody>\n",
       "</table>\n",
       "</div>"
      ],
      "text/plain": [
       "                                                Link     brand volume  \\\n",
       "0  https://www.caretobeauty.com/us/eucerin-anti-p...   Eucerin   15ml   \n",
       "1  https://www.caretobeauty.com/us/sesderma-k-vit...  Sesderma   30ml   \n",
       "\n",
       "                                         description  \\\n",
       "0  Eucerin Anti-Pigment Eye Contour Cream 15ml (0...   \n",
       "1  Sesderma K-Vit Anti-Dark Circles Serum Clarify...   \n",
       "\n",
       "                                         ingredients  \\\n",
       "0  Main Ingredients\\r\\n\\r\\nThiamidol is an active...   \n",
       "1  Main Ingredients\\r\\n\\r\\nCamphanediol and Pinad...   \n",
       "\n",
       "                                          how_to_use  \n",
       "0  How to use\\r\\nApply a pea-sized amount of&nbsp...  \n",
       "1  How to use\\r\\nApply Sesderma K-Vit Anti-Dark C...  "
      ]
     },
     "execution_count": 9,
     "metadata": {},
     "output_type": "execute_result"
    }
   ],
   "source": [
    "df1.head(2)"
   ]
  },
  {
   "cell_type": "code",
   "execution_count": 5,
   "metadata": {},
   "outputs": [],
   "source": [
    "import os"
   ]
  },
  {
   "cell_type": "code",
   "execution_count": 6,
   "metadata": {},
   "outputs": [],
   "source": [
    "\n",
    "# Specify the folder path\n",
    "folder_path = 'in_put/link'\n",
    "\n",
    "# Get a list of all CSV files in the folder\n",
    "csv_files = [file for file in os.listdir(folder_path) if file.endswith('.csv')]\n",
    "\n",
    "# Initialize an empty DataFrame to store the merged data\n",
    "merged_df = pd.DataFrame()\n",
    "\n",
    "# Iterate over each CSV file and merge it with the existing data\n",
    "for file in csv_files:\n",
    "    file_path = os.path.join(folder_path, file)\n",
    "    df = pd.read_csv(file_path)\n",
    "    merged_df = pd.concat([merged_df, df])\n"
   ]
  },
  {
   "cell_type": "code",
   "execution_count": 7,
   "metadata": {},
   "outputs": [
    {
     "data": {
      "text/html": [
       "<div>\n",
       "<style scoped>\n",
       "    .dataframe tbody tr th:only-of-type {\n",
       "        vertical-align: middle;\n",
       "    }\n",
       "\n",
       "    .dataframe tbody tr th {\n",
       "        vertical-align: top;\n",
       "    }\n",
       "\n",
       "    .dataframe thead th {\n",
       "        text-align: right;\n",
       "    }\n",
       "</style>\n",
       "<table border=\"1\" class=\"dataframe\">\n",
       "  <thead>\n",
       "    <tr style=\"text-align: right;\">\n",
       "      <th></th>\n",
       "      <th>Link</th>\n",
       "      <th>productName</th>\n",
       "      <th>image_key</th>\n",
       "      <th>price_usd</th>\n",
       "      <th>id_category</th>\n",
       "    </tr>\n",
       "  </thead>\n",
       "  <tbody>\n",
       "    <tr>\n",
       "      <th>0</th>\n",
       "      <td>https://www.caretobeauty.com/us/acm-laboratoir...</td>\n",
       "      <td>ACM Laboratoire Vitix Food Supplement Tablets x30</td>\n",
       "      <td>https://static.beautytocare.com/cdn-cgi/image/...</td>\n",
       "      <td>$44.63</td>\n",
       "      <td>106</td>\n",
       "    </tr>\n",
       "    <tr>\n",
       "      <th>1</th>\n",
       "      <td>https://www.caretobeauty.com/us/martiderm-pigm...</td>\n",
       "      <td>Martiderm Pigment Zero DSP-Antiox Capsules x60</td>\n",
       "      <td>https://static.beautytocare.com/cdn-cgi/image/...</td>\n",
       "      <td>$33.10</td>\n",
       "      <td>106</td>\n",
       "    </tr>\n",
       "    <tr>\n",
       "      <th>2</th>\n",
       "      <td>https://www.caretobeauty.com/us/martiderm-acni...</td>\n",
       "      <td>Martiderm Acniover Capsules Acne-Prone Skin x60</td>\n",
       "      <td>https://static.beautytocare.com/cdn-cgi/image/...</td>\n",
       "      <td>$45.77</td>\n",
       "      <td>106</td>\n",
       "    </tr>\n",
       "    <tr>\n",
       "      <th>3</th>\n",
       "      <td>https://www.caretobeauty.com/us/mimitika-missi...</td>\n",
       "      <td>MIMITIKA Missing Sun Dietary Supplements x60</td>\n",
       "      <td>https://static.beautytocare.com/cdn-cgi/image/...</td>\n",
       "      <td>$31.75</td>\n",
       "      <td>106</td>\n",
       "    </tr>\n",
       "    <tr>\n",
       "      <th>4</th>\n",
       "      <td>https://www.caretobeauty.com/us/martiderm-amat...</td>\n",
       "      <td>Martiderm Amatist Capsules x60</td>\n",
       "      <td>https://static.beautytocare.com/cdn-cgi/image/...</td>\n",
       "      <td>$48.04</td>\n",
       "      <td>106</td>\n",
       "    </tr>\n",
       "  </tbody>\n",
       "</table>\n",
       "</div>"
      ],
      "text/plain": [
       "                                                Link  \\\n",
       "0  https://www.caretobeauty.com/us/acm-laboratoir...   \n",
       "1  https://www.caretobeauty.com/us/martiderm-pigm...   \n",
       "2  https://www.caretobeauty.com/us/martiderm-acni...   \n",
       "3  https://www.caretobeauty.com/us/mimitika-missi...   \n",
       "4  https://www.caretobeauty.com/us/martiderm-amat...   \n",
       "\n",
       "                                         productName  \\\n",
       "0  ACM Laboratoire Vitix Food Supplement Tablets x30   \n",
       "1     Martiderm Pigment Zero DSP-Antiox Capsules x60   \n",
       "2    Martiderm Acniover Capsules Acne-Prone Skin x60   \n",
       "3       MIMITIKA Missing Sun Dietary Supplements x60   \n",
       "4                     Martiderm Amatist Capsules x60   \n",
       "\n",
       "                                           image_key price_usd  id_category  \n",
       "0  https://static.beautytocare.com/cdn-cgi/image/...    $44.63          106  \n",
       "1  https://static.beautytocare.com/cdn-cgi/image/...    $33.10          106  \n",
       "2  https://static.beautytocare.com/cdn-cgi/image/...    $45.77          106  \n",
       "3  https://static.beautytocare.com/cdn-cgi/image/...    $31.75          106  \n",
       "4  https://static.beautytocare.com/cdn-cgi/image/...    $48.04          106  "
      ]
     },
     "execution_count": 7,
     "metadata": {},
     "output_type": "execute_result"
    }
   ],
   "source": [
    "merged_df.head()"
   ]
  },
  {
   "cell_type": "code",
   "execution_count": 6,
   "metadata": {},
   "outputs": [
    {
     "data": {
      "text/plain": [
       "(5031, 6)"
      ]
     },
     "execution_count": 6,
     "metadata": {},
     "output_type": "execute_result"
    }
   ],
   "source": [
    "merged_df.shape"
   ]
  },
  {
   "cell_type": "code",
   "execution_count": 5,
   "metadata": {},
   "outputs": [],
   "source": [
    "merged_df.drop_duplicates(inplace=True)"
   ]
  },
  {
   "cell_type": "code",
   "execution_count": 2,
   "metadata": {},
   "outputs": [],
   "source": [
    "import pandas as pd "
   ]
  },
  {
   "cell_type": "code",
   "execution_count": 4,
   "metadata": {},
   "outputs": [],
   "source": [
    "df_output = pd.read_csv('out_put/merged_data.csv')"
   ]
  },
  {
   "cell_type": "code",
   "execution_count": 21,
   "metadata": {},
   "outputs": [
    {
     "data": {
      "text/html": [
       "<div>\n",
       "<style scoped>\n",
       "    .dataframe tbody tr th:only-of-type {\n",
       "        vertical-align: middle;\n",
       "    }\n",
       "\n",
       "    .dataframe tbody tr th {\n",
       "        vertical-align: top;\n",
       "    }\n",
       "\n",
       "    .dataframe thead th {\n",
       "        text-align: right;\n",
       "    }\n",
       "</style>\n",
       "<table border=\"1\" class=\"dataframe\">\n",
       "  <thead>\n",
       "    <tr style=\"text-align: right;\">\n",
       "      <th></th>\n",
       "      <th>Link</th>\n",
       "      <th>brand</th>\n",
       "      <th>volume</th>\n",
       "      <th>description</th>\n",
       "      <th>ingredients</th>\n",
       "      <th>how_to_use</th>\n",
       "      <th>product_key</th>\n",
       "      <th>key</th>\n",
       "    </tr>\n",
       "  </thead>\n",
       "  <tbody>\n",
       "    <tr>\n",
       "      <th>0</th>\n",
       "      <td>https://www.caretobeauty.com/us/svr-sebiaclear...</td>\n",
       "      <td>SVR</td>\n",
       "      <td>55ml (1.86 fl oz)\\r\\n                         ...</td>\n",
       "      <td>SVR Sebiaclear Purifying Cleansing Gel is a cl...</td>\n",
       "      <td>Main Ingredients\\r\\n\\r\\nGluconolactone is resp...</td>\n",
       "      <td>How to use\\r\\nApply SVR Sebiaclear Purifying C...</td>\n",
       "      <td>1124</td>\n",
       "      <td>https://www.caretobeauty.com/us/svr-sebiaclear...</td>\n",
       "    </tr>\n",
       "    <tr>\n",
       "      <th>1</th>\n",
       "      <td>https://www.caretobeauty.com/us/eucerin-dermop...</td>\n",
       "      <td>Eucerin</td>\n",
       "      <td>400ml (13.53 fl oz)</td>\n",
       "      <td>Eucerin DERMOPURE Cleansing Gel&amp;nbsp;is a gent...</td>\n",
       "      <td>Main Ingredients\\r\\n\\r\\n6% Amphoteric surfacta...</td>\n",
       "      <td>How to use\\r\\nApply a small amount of&amp;nbsp;Euc...</td>\n",
       "      <td>1124</td>\n",
       "      <td>https://www.caretobeauty.com/us/eucerin-dermop...</td>\n",
       "    </tr>\n",
       "  </tbody>\n",
       "</table>\n",
       "</div>"
      ],
      "text/plain": [
       "                                                Link    brand  \\\n",
       "0  https://www.caretobeauty.com/us/svr-sebiaclear...      SVR   \n",
       "1  https://www.caretobeauty.com/us/eucerin-dermop...  Eucerin   \n",
       "\n",
       "                                              volume  \\\n",
       "0  55ml (1.86 fl oz)\\r\\n                         ...   \n",
       "1                                400ml (13.53 fl oz)   \n",
       "\n",
       "                                         description  \\\n",
       "0  SVR Sebiaclear Purifying Cleansing Gel is a cl...   \n",
       "1  Eucerin DERMOPURE Cleansing Gel&nbsp;is a gent...   \n",
       "\n",
       "                                         ingredients  \\\n",
       "0  Main Ingredients\\r\\n\\r\\nGluconolactone is resp...   \n",
       "1  Main Ingredients\\r\\n\\r\\n6% Amphoteric surfacta...   \n",
       "\n",
       "                                          how_to_use  product_key  \\\n",
       "0  How to use\\r\\nApply SVR Sebiaclear Purifying C...         1124   \n",
       "1  How to use\\r\\nApply a small amount of&nbsp;Euc...         1124   \n",
       "\n",
       "                                                 key  \n",
       "0  https://www.caretobeauty.com/us/svr-sebiaclear...  \n",
       "1  https://www.caretobeauty.com/us/eucerin-dermop...  "
      ]
     },
     "execution_count": 21,
     "metadata": {},
     "output_type": "execute_result"
    }
   ],
   "source": [
    "df_output.head(2)"
   ]
  },
  {
   "cell_type": "code",
   "execution_count": 20,
   "metadata": {},
   "outputs": [],
   "source": [
    "df_output[\"key\"] = df_output[\"Link\"] + df_output[\"product_key\"].astype(str)\n"
   ]
  },
  {
   "cell_type": "code",
   "execution_count": 22,
   "metadata": {},
   "outputs": [
    {
     "data": {
      "text/plain": [
       "5343"
      ]
     },
     "execution_count": 22,
     "metadata": {},
     "output_type": "execute_result"
    }
   ],
   "source": [
    "df_output[\"key\"].nunique()"
   ]
  },
  {
   "cell_type": "code",
   "execution_count": 10,
   "metadata": {},
   "outputs": [
    {
     "data": {
      "text/plain": [
       "(5343, 7)"
      ]
     },
     "execution_count": 10,
     "metadata": {},
     "output_type": "execute_result"
    }
   ],
   "source": [
    "df_output.shape"
   ]
  },
  {
   "cell_type": "code",
   "execution_count": 8,
   "metadata": {},
   "outputs": [],
   "source": [
    "df_input = merged_df"
   ]
  },
  {
   "cell_type": "code",
   "execution_count": 23,
   "metadata": {},
   "outputs": [],
   "source": [
    "df_input[\"key\"] = df_input[\"Link\"] + df_input[\"id_category\"].astype(str)"
   ]
  },
  {
   "cell_type": "code",
   "execution_count": 24,
   "metadata": {},
   "outputs": [
    {
     "data": {
      "text/plain": [
       "5343"
      ]
     },
     "execution_count": 24,
     "metadata": {},
     "output_type": "execute_result"
    }
   ],
   "source": [
    "df_input[\"key\"].nunique()"
   ]
  },
  {
   "cell_type": "code",
   "execution_count": 26,
   "metadata": {},
   "outputs": [],
   "source": [
    "df = pd.merge(df_input, df_output[[\"brand\",\t\"volume\",\"description\",\"ingredients\",\"how_to_use\", \"key\"]], on='key', how='left')"
   ]
  },
  {
   "cell_type": "code",
   "execution_count": 28,
   "metadata": {},
   "outputs": [
    {
     "data": {
      "text/plain": [
       "(5343, 11)"
      ]
     },
     "execution_count": 28,
     "metadata": {},
     "output_type": "execute_result"
    }
   ],
   "source": [
    "df.shape"
   ]
  },
  {
   "cell_type": "code",
   "execution_count": 29,
   "metadata": {},
   "outputs": [],
   "source": [
    "df.to_csv('out_put/merged_data.csv', index=False)"
   ]
  },
  {
   "cell_type": "code",
   "execution_count": 32,
   "metadata": {},
   "outputs": [],
   "source": [
    "df = df.sample(3)\n"
   ]
  },
  {
   "cell_type": "code",
   "execution_count": 36,
   "metadata": {},
   "outputs": [
    {
     "data": {
      "text/html": [
       "<div>\n",
       "<style scoped>\n",
       "    .dataframe tbody tr th:only-of-type {\n",
       "        vertical-align: middle;\n",
       "    }\n",
       "\n",
       "    .dataframe tbody tr th {\n",
       "        vertical-align: top;\n",
       "    }\n",
       "\n",
       "    .dataframe thead th {\n",
       "        text-align: right;\n",
       "    }\n",
       "</style>\n",
       "<table border=\"1\" class=\"dataframe\">\n",
       "  <thead>\n",
       "    <tr style=\"text-align: right;\">\n",
       "      <th></th>\n",
       "      <th>Link</th>\n",
       "      <th>productName</th>\n",
       "      <th>image_key</th>\n",
       "      <th>price_usd</th>\n",
       "      <th>id_category</th>\n",
       "      <th>key</th>\n",
       "      <th>brand</th>\n",
       "      <th>volume</th>\n",
       "      <th>description</th>\n",
       "      <th>ingredients</th>\n",
       "      <th>how_to_use</th>\n",
       "      <th>i</th>\n",
       "    </tr>\n",
       "  </thead>\n",
       "  <tbody>\n",
       "    <tr>\n",
       "      <th>4136</th>\n",
       "      <td>https://www.caretobeauty.com/us/holika-holika-...</td>\n",
       "      <td>Holika Holika One Solution Super Energy Ampoul...</td>\n",
       "      <td>https://static.beautytocare.com/cdn-cgi/image/...</td>\n",
       "      <td>$19.64</td>\n",
       "      <td>850</td>\n",
       "      <td>https://www.caretobeauty.com/us/holika-holika-...</td>\n",
       "      <td>Holika Holika</td>\n",
       "      <td>30ml</td>\n",
       "      <td>Holika Holika One Solution Super Energy Ampoul...</td>\n",
       "      <td>Main Ingredients\\r\\n\\r\\nSpirulina Extract is f...</td>\n",
       "      <td>How to use\\r\\nApply two to three drops of Holi...</td>\n",
       "      <td>1700</td>\n",
       "    </tr>\n",
       "    <tr>\n",
       "      <th>4566</th>\n",
       "      <td>https://www.caretobeauty.com/us/catrice-glow-s...</td>\n",
       "      <td>Catrice Glow Super Vitamin Serum 30ml (1.01 fl...</td>\n",
       "      <td>https://static.beautytocare.com/cdn-cgi/image/...</td>\n",
       "      <td>$9.15</td>\n",
       "      <td>850</td>\n",
       "      <td>https://www.caretobeauty.com/us/catrice-glow-s...</td>\n",
       "      <td>Catrice</td>\n",
       "      <td>30ml</td>\n",
       "      <td>Catrice Glow Super Vitamin Serum 30ml (1.01 fl...</td>\n",
       "      <td>Main Ingredients\\r\\n\\r\\n2% Vitamin C is a powe...</td>\n",
       "      <td>How to use\\r\\nApply two to three drops of Catr...</td>\n",
       "      <td>1700</td>\n",
       "    </tr>\n",
       "    <tr>\n",
       "      <th>2483</th>\n",
       "      <td>https://www.caretobeauty.com/us/travel-size-er...</td>\n",
       "      <td>Erborian CC Crème High Definition Radiance Cre...</td>\n",
       "      <td>https://static.beautytocare.com/cdn-cgi/image/...</td>\n",
       "      <td>$29.35</td>\n",
       "      <td>44</td>\n",
       "      <td>https://www.caretobeauty.com/us/travel-size-er...</td>\n",
       "      <td>Erborian</td>\n",
       "      <td>Caramel 15ml</td>\n",
       "      <td>Erborian CC Crème High Definition Radiance Cre...</td>\n",
       "      <td>Main Ingredients\\r\\n\\r\\nCentella asiatica has ...</td>\n",
       "      <td>How to use\\r\\nApply a fine layer of Erborian C...</td>\n",
       "      <td>88</td>\n",
       "    </tr>\n",
       "  </tbody>\n",
       "</table>\n",
       "</div>"
      ],
      "text/plain": [
       "                                                   Link  \\\n",
       "4136  https://www.caretobeauty.com/us/holika-holika-...   \n",
       "4566  https://www.caretobeauty.com/us/catrice-glow-s...   \n",
       "2483  https://www.caretobeauty.com/us/travel-size-er...   \n",
       "\n",
       "                                            productName  \\\n",
       "4136  Holika Holika One Solution Super Energy Ampoul...   \n",
       "4566  Catrice Glow Super Vitamin Serum 30ml (1.01 fl...   \n",
       "2483  Erborian CC Crème High Definition Radiance Cre...   \n",
       "\n",
       "                                              image_key price_usd  \\\n",
       "4136  https://static.beautytocare.com/cdn-cgi/image/...    $19.64   \n",
       "4566  https://static.beautytocare.com/cdn-cgi/image/...     $9.15   \n",
       "2483  https://static.beautytocare.com/cdn-cgi/image/...    $29.35   \n",
       "\n",
       "      id_category                                                key  \\\n",
       "4136          850  https://www.caretobeauty.com/us/holika-holika-...   \n",
       "4566          850  https://www.caretobeauty.com/us/catrice-glow-s...   \n",
       "2483           44  https://www.caretobeauty.com/us/travel-size-er...   \n",
       "\n",
       "              brand        volume  \\\n",
       "4136  Holika Holika          30ml   \n",
       "4566        Catrice          30ml   \n",
       "2483       Erborian  Caramel 15ml   \n",
       "\n",
       "                                            description  \\\n",
       "4136  Holika Holika One Solution Super Energy Ampoul...   \n",
       "4566  Catrice Glow Super Vitamin Serum 30ml (1.01 fl...   \n",
       "2483  Erborian CC Crème High Definition Radiance Cre...   \n",
       "\n",
       "                                            ingredients  \\\n",
       "4136  Main Ingredients\\r\\n\\r\\nSpirulina Extract is f...   \n",
       "4566  Main Ingredients\\r\\n\\r\\n2% Vitamin C is a powe...   \n",
       "2483  Main Ingredients\\r\\n\\r\\nCentella asiatica has ...   \n",
       "\n",
       "                                             how_to_use     i  \n",
       "4136  How to use\\r\\nApply two to three drops of Holi...  1700  \n",
       "4566  How to use\\r\\nApply two to three drops of Catr...  1700  \n",
       "2483  How to use\\r\\nApply a fine layer of Erborian C...    88  "
      ]
     },
     "execution_count": 36,
     "metadata": {},
     "output_type": "execute_result"
    }
   ],
   "source": [
    "df"
   ]
  },
  {
   "cell_type": "code",
   "execution_count": 37,
   "metadata": {},
   "outputs": [
    {
     "name": "stdout",
     "output_type": "stream",
     "text": [
      "1\n",
      "2\n",
      "3\n"
     ]
    }
   ],
   "source": [
    "row_count = 0\n",
    "for index, row in df.iterrows():\n",
    "    row_count += 1\n",
    "    \n",
    "    df[\"i\"] = df[\"id_category\"] * 2\n",
    "    print(row_count)"
   ]
  }
 ],
 "metadata": {
  "kernelspec": {
   "display_name": "venv",
   "language": "python",
   "name": "python3"
  },
  "language_info": {
   "codemirror_mode": {
    "name": "ipython",
    "version": 3
   },
   "file_extension": ".py",
   "mimetype": "text/x-python",
   "name": "python",
   "nbconvert_exporter": "python",
   "pygments_lexer": "ipython3",
   "version": "3.10.11"
  }
 },
 "nbformat": 4,
 "nbformat_minor": 2
}
